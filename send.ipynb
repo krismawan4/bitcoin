{
 "cells": [
  {
   "cell_type": "code",
   "execution_count": 1,
   "metadata": {},
   "outputs": [
    {
     "ename": "ModuleNotFoundError",
     "evalue": "No module named 'bitcoinrpc.authproxy'",
     "output_type": "error",
     "traceback": [
      "\u001b[0;31m---------------------------------------------------------------------------\u001b[0m",
      "\u001b[0;31mModuleNotFoundError\u001b[0m                       Traceback (most recent call last)",
      "Cell \u001b[0;32mIn[1], line 1\u001b[0m\n\u001b[0;32m----> 1\u001b[0m \u001b[38;5;28;01mfrom\u001b[39;00m\u001b[38;5;250m \u001b[39m\u001b[38;5;21;01mbitcoinrpc\u001b[39;00m\u001b[38;5;21;01m.\u001b[39;00m\u001b[38;5;21;01mauthproxy\u001b[39;00m\u001b[38;5;250m \u001b[39m\u001b[38;5;28;01mimport\u001b[39;00m AuthServiceProxy\n\u001b[1;32m      2\u001b[0m \u001b[38;5;28;01mfrom\u001b[39;00m\u001b[38;5;250m \u001b[39m\u001b[38;5;21;01mdotenv\u001b[39;00m\u001b[38;5;250m \u001b[39m\u001b[38;5;28;01mimport\u001b[39;00m load_dotenv\n\u001b[1;32m      3\u001b[0m \u001b[38;5;28;01mimport\u001b[39;00m\u001b[38;5;250m \u001b[39m\u001b[38;5;21;01mos\u001b[39;00m\n",
      "\u001b[0;31mModuleNotFoundError\u001b[0m: No module named 'bitcoinrpc.authproxy'"
     ]
    }
   ],
   "source": [
    "from bitcoinrpc.authproxy import AuthServiceProxy\n",
    "from dotenv import load_dotenv\n",
    "import os\n",
    "import binascii"
   ]
  },
  {
   "cell_type": "code",
   "execution_count": 2,
   "metadata": {},
   "outputs": [],
   "source": [
    "message = \"Hello :D\"\n",
    "receiver = \"1A1zP1eP5QGefi2DMPTfTL5SLmv7DivfNa\"\n",
    "amount = 0.00001"
   ]
  },
  {
   "cell_type": "code",
   "execution_count": null,
   "metadata": {},
   "outputs": [],
   "source": [
    "# Load environment variables\n",
    "load_dotenv()\n",
    "\n",
    "user = os.getenv(\"RPC_USER\")\n",
    "password = os.getenv(\"RPC_PASSWORD\")\n",
    "host = os.getenv(\"RPC_HOST\", \"127.0.0.1\")\n",
    "port = os.getenv(\"RPC_PORT\", \"8332\")\n",
    "\n",
    "# Connect to RPC\n",
    "# if you have more than one wallet, you can specify the wallet name (i.e for Youtube wallet) http://{user}:{password}@{host}:{port}/wallet/Youtube\n",
    "rpc = AuthServiceProxy(f\"http://{user}:{password}@{host}:{port}\")\n",
    "\n",
    "op_return_data = binascii.hexlify(message.encode()).decode()\n",
    "outputs = {\n",
    "    receiver: amount,\n",
    "    \"data\": op_return_data\n",
    "}\n"
   ]
  },
  {
   "cell_type": "code",
   "execution_count": null,
   "metadata": {},
   "outputs": [],
   "source": [
    "# Build, sign, finalize, and send transaction\n",
    "psbt = rpc.walletcreatefundedpsbt([], outputs)[\"psbt\"]\n",
    "signed_psbt = rpc.walletprocesspsbt(psbt)[\"psbt\"]\n",
    "raw_tx = rpc.finalizepsbt(signed_psbt)[\"hex\"]\n",
    "txid = rpc.sendrawtransaction(raw_tx)\n",
    "\n",
    "print(\"Transaction ID:\", txid)"
   ]
  },
  {
   "cell_type": "code",
   "execution_count": null,
   "metadata": {},
   "outputs": [],
   "source": []
  }
 ],
 "metadata": {
  "kernelspec": {
   "display_name": "base",
   "language": "python",
   "name": "python3"
  },
  "language_info": {
   "codemirror_mode": {
    "name": "ipython",
    "version": 3
   },
   "file_extension": ".py",
   "mimetype": "text/x-python",
   "name": "python",
   "nbconvert_exporter": "python",
   "pygments_lexer": "ipython3",
   "version": "3.12.11"
  }
 },
 "nbformat": 4,
 "nbformat_minor": 2
}
