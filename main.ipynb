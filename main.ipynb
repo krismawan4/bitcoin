{
 "cells": [
  {
   "cell_type": "code",
   "execution_count": 1,
   "metadata": {},
   "outputs": [],
   "source": [
    "import os\n",
    "import hashlib\n",
    "import base58\n",
    "from ecdsa import SigningKey, SECP256k1\n",
    "import bech32"
   ]
  },
  {
   "cell_type": "code",
   "execution_count": 2,
   "metadata": {},
   "outputs": [
    {
     "name": "stdout",
     "output_type": "stream",
     "text": [
      "Private Key (decimal): 39658300337339047826160927983396658939240316553684214058011780889441245260805\n",
      "Private Key (hex): 57adcd735ee44075e85123f3ef8b698e922e1c79f64a23c7454bae9891d2ec05\n",
      "Private Key (WIF): KzA9VZMLdNm6fzGTTsFeqKnok32ZWDuMahgr5Y5a83PG2JKGQenY\n"
     ]
    }
   ],
   "source": [
    "# 1. Generate a 256-bit private key\n",
    "private_key_bytes = os.urandom(32)\n",
    "\n",
    "private_key_int = int.from_bytes(private_key_bytes) # Convert to decimal number\n",
    "print(\"Private Key (decimal):\", private_key_int)\n",
    "\n",
    "private_key_hex = private_key_bytes.hex()\n",
    "print(\"Private Key (hex):\", private_key_hex)\n",
    "\n",
    "wif = base58.b58encode(b'\\x80' + private_key_bytes + b'\\x01' + hashlib.sha256(hashlib.sha256(b'\\x80' + private_key_bytes + b'\\x01').digest()).digest()[:4]).decode()\n",
    "print(\"Private Key (WIF):\", wif) # used for wallet import format"
   ]
  },
  {
   "cell_type": "code",
   "execution_count": 3,
   "metadata": {},
   "outputs": [
    {
     "name": "stdout",
     "output_type": "stream",
     "text": [
      "Public Key (decimal): 58792602587016184377358809634919624120943859558511255682881716369226164813171417506092410885423566434700497989527501335725990365180956216770752950695791859\n",
      "Public Key (hex): 04628c4159ce2a7da73c3e1246d7be945d681262be5b6da596fb5d528d3d31f98d6f4d4a5245dafd69833172da4c0d3439aa68931c609182604e9015cbb1ae8cf3\n"
     ]
    }
   ],
   "source": [
    "# 2. Generate public key using secp256k1\n",
    "sk = SigningKey.from_string(private_key_bytes, curve=SECP256k1)\n",
    "vk = sk.verifying_key\n",
    "\n",
    "# Format uncompressed public key (0x04 + X + Y)\n",
    "public_key_bytes = b'\\x04' + vk.to_string()\n",
    "public_key_int = int.from_bytes(public_key_bytes)\n",
    "print(\"Public Key (decimal):\", public_key_int)\n",
    "public_key_hex = public_key_bytes.hex()\n",
    "print(\"Public Key (hex):\", public_key_hex)"
   ]
  },
  {
   "cell_type": "code",
   "execution_count": 5,
   "metadata": {},
   "outputs": [
    {
     "name": "stdout",
     "output_type": "stream",
     "text": [
      "Bitcoin Address (Legacy): 1M9hEteoUDwQ5dCkVBXsdXtQAd8xrfJ9bY\n"
     ]
    }
   ],
   "source": [
    "# 3. Create Bitcoin address (Legacy)\n",
    "# Step 1: SHA-256 hash of the public key\n",
    "sha256_hash = hashlib.sha256(public_key_bytes).digest()\n",
    "\n",
    "# Step 2: RIPEMD-160 hash of the SHA-256 hash\n",
    "ripemd160 = hashlib.new('ripemd160')\n",
    "ripemd160.update(sha256_hash)\n",
    "hashed_pubkey = ripemd160.digest()\n",
    "\n",
    "# Step 3: Add version byte (0x00 for mainnet)\n",
    "versioned_payload = b'\\x00' + hashed_pubkey\n",
    "\n",
    "# Step 4: Create checksum (double SHA-256)\n",
    "checksum = hashlib.sha256(hashlib.sha256(versioned_payload).digest()).digest()[:4]\n",
    "\n",
    "# Step 5: Combine and encode with Base58Check\n",
    "full_payload = versioned_payload + checksum\n",
    "address = base58.b58encode(full_payload).decode()\n",
    "\n",
    "print(\"Bitcoin Address (Legacy):\", address)"
   ]
  },
  {
   "cell_type": "code",
   "execution_count": 6,
   "metadata": {},
   "outputs": [
    {
     "name": "stdout",
     "output_type": "stream",
     "text": [
      "Compressed Public Key (hex): 03628c4159ce2a7da73c3e1246d7be945d681262be5b6da596fb5d528d3d31f98d\n",
      "Bitcoin Address (SegWit ver): bc1q9300wetpt2qs543sj9gvpuw74g0u358u346w6n\n"
     ]
    }
   ],
   "source": [
    "# BITCOIN ADDRESS GENERATION\n",
    "\n",
    "# 1. Compress the public key (required for SegWit)\n",
    "pubkey_bytes = vk.to_string()\n",
    "x = pubkey_bytes[:32]\n",
    "y = pubkey_bytes[32:]\n",
    "prefix = b'\\x03' if int.from_bytes(y, 'big') % 2 else b'\\x02'\n",
    "compressed_pubkey = prefix + x\n",
    "print(\"Compressed Public Key (hex):\", compressed_pubkey.hex())\n",
    "\n",
    "# 2. Hash of the compressed public key (SHA-256 then RIPEMD-160)\n",
    "sha256 = hashlib.sha256(compressed_pubkey).digest()\n",
    "ripemd160 = hashlib.new('ripemd160', sha256).digest()\n",
    "\n",
    "# 3. Create Bitcoin address (P2WPKH - witness version 0)\n",
    "witness_version = 0\n",
    "witness_program = bech32.convertbits(ripemd160, 8, 5, True)\n",
    "segwit_address = bech32.bech32_encode(\"bc\", [witness_version] + witness_program)\n",
    "\n",
    "print(\"Bitcoin Address (SegWit ver):\", segwit_address)"
   ]
  },
  {
   "cell_type": "code",
   "execution_count": null,
   "metadata": {},
   "outputs": [],
   "source": []
  }
 ],
 "metadata": {
  "kernelspec": {
   "display_name": "base",
   "language": "python",
   "name": "python3"
  },
  "language_info": {
   "codemirror_mode": {
    "name": "ipython",
    "version": 3
   },
   "file_extension": ".py",
   "mimetype": "text/x-python",
   "name": "python",
   "nbconvert_exporter": "python",
   "pygments_lexer": "ipython3",
   "version": "3.12.11"
  }
 },
 "nbformat": 4,
 "nbformat_minor": 2
}
